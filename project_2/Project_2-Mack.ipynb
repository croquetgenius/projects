{
 "cells": [
  {
   "cell_type": "code",
   "execution_count": 1,
   "metadata": {},
   "outputs": [],
   "source": [
    "import numpy as np\n",
    "import pandas as pd\n",
    "import seaborn as sns\n",
    "import matplotlib.pyplot as plt\n",
    "from sklearn.linear_model import LinearRegression\n",
    "from sklearn.model_selection import train_test_split, cross_val_score, GridSearchCV\n",
    "from sklearn.preprocessing import PolynomialFeatures, StandardScaler\n",
    "from sklearn.metrics import mean_squared_error\n",
    "%matplotlib inline"
   ]
  },
  {
   "cell_type": "markdown",
   "metadata": {},
   "source": [
    "# 1. EDA and Data Cleaning"
   ]
  },
  {
   "cell_type": "code",
   "execution_count": 2,
   "metadata": {},
   "outputs": [],
   "source": [
    "tr = pd.read_csv('./datasets/train.csv')\n",
    "tst = pd.read_csv('./datasets/test.csv')"
   ]
  },
  {
   "cell_type": "markdown",
   "metadata": {},
   "source": [
    "#### Check shape"
   ]
  },
  {
   "cell_type": "code",
   "execution_count": 3,
   "metadata": {},
   "outputs": [
    {
     "data": {
      "text/plain": [
       "(2051, 81)"
      ]
     },
     "execution_count": 3,
     "metadata": {},
     "output_type": "execute_result"
    }
   ],
   "source": [
    "# check shape\n",
    "tr.shape"
   ]
  },
  {
   "cell_type": "markdown",
   "metadata": {},
   "source": [
    "#### Reformat column names"
   ]
  },
  {
   "cell_type": "code",
   "execution_count": 4,
   "metadata": {},
   "outputs": [],
   "source": [
    "# reformat column names\n",
    "tr.columns = tr.columns.str.replace(' ', '_')\n",
    "tr.columns = tr.columns.str.lower()\n",
    "\n",
    "# reformat column names\n",
    "tst.columns = tst.columns.str.replace(' ', '_')\n",
    "tst.columns = tst.columns.str.lower()"
   ]
  },
  {
   "cell_type": "markdown",
   "metadata": {},
   "source": [
    "#### Check for nulls and dtypes"
   ]
  },
  {
   "cell_type": "code",
   "execution_count": 5,
   "metadata": {},
   "outputs": [
    {
     "name": "stdout",
     "output_type": "stream",
     "text": [
      "<class 'pandas.core.frame.DataFrame'>\n",
      "RangeIndex: 2051 entries, 0 to 2050\n",
      "Data columns (total 81 columns):\n",
      " #   Column           Non-Null Count  Dtype  \n",
      "---  ------           --------------  -----  \n",
      " 0   id               2051 non-null   int64  \n",
      " 1   pid              2051 non-null   int64  \n",
      " 2   ms_subclass      2051 non-null   int64  \n",
      " 3   ms_zoning        2051 non-null   object \n",
      " 4   lot_frontage     1721 non-null   float64\n",
      " 5   lot_area         2051 non-null   int64  \n",
      " 6   street           2051 non-null   object \n",
      " 7   alley            140 non-null    object \n",
      " 8   lot_shape        2051 non-null   object \n",
      " 9   land_contour     2051 non-null   object \n",
      " 10  utilities        2051 non-null   object \n",
      " 11  lot_config       2051 non-null   object \n",
      " 12  land_slope       2051 non-null   object \n",
      " 13  neighborhood     2051 non-null   object \n",
      " 14  condition_1      2051 non-null   object \n",
      " 15  condition_2      2051 non-null   object \n",
      " 16  bldg_type        2051 non-null   object \n",
      " 17  house_style      2051 non-null   object \n",
      " 18  overall_qual     2051 non-null   int64  \n",
      " 19  overall_cond     2051 non-null   int64  \n",
      " 20  year_built       2051 non-null   int64  \n",
      " 21  year_remod/add   2051 non-null   int64  \n",
      " 22  roof_style       2051 non-null   object \n",
      " 23  roof_matl        2051 non-null   object \n",
      " 24  exterior_1st     2051 non-null   object \n",
      " 25  exterior_2nd     2051 non-null   object \n",
      " 26  mas_vnr_type     2029 non-null   object \n",
      " 27  mas_vnr_area     2029 non-null   float64\n",
      " 28  exter_qual       2051 non-null   object \n",
      " 29  exter_cond       2051 non-null   object \n",
      " 30  foundation       2051 non-null   object \n",
      " 31  bsmt_qual        1996 non-null   object \n",
      " 32  bsmt_cond        1996 non-null   object \n",
      " 33  bsmt_exposure    1993 non-null   object \n",
      " 34  bsmtfin_type_1   1996 non-null   object \n",
      " 35  bsmtfin_sf_1     2050 non-null   float64\n",
      " 36  bsmtfin_type_2   1995 non-null   object \n",
      " 37  bsmtfin_sf_2     2050 non-null   float64\n",
      " 38  bsmt_unf_sf      2050 non-null   float64\n",
      " 39  total_bsmt_sf    2050 non-null   float64\n",
      " 40  heating          2051 non-null   object \n",
      " 41  heating_qc       2051 non-null   object \n",
      " 42  central_air      2051 non-null   object \n",
      " 43  electrical       2051 non-null   object \n",
      " 44  1st_flr_sf       2051 non-null   int64  \n",
      " 45  2nd_flr_sf       2051 non-null   int64  \n",
      " 46  low_qual_fin_sf  2051 non-null   int64  \n",
      " 47  gr_liv_area      2051 non-null   int64  \n",
      " 48  bsmt_full_bath   2049 non-null   float64\n",
      " 49  bsmt_half_bath   2049 non-null   float64\n",
      " 50  full_bath        2051 non-null   int64  \n",
      " 51  half_bath        2051 non-null   int64  \n",
      " 52  bedroom_abvgr    2051 non-null   int64  \n",
      " 53  kitchen_abvgr    2051 non-null   int64  \n",
      " 54  kitchen_qual     2051 non-null   object \n",
      " 55  totrms_abvgrd    2051 non-null   int64  \n",
      " 56  functional       2051 non-null   object \n",
      " 57  fireplaces       2051 non-null   int64  \n",
      " 58  fireplace_qu     1051 non-null   object \n",
      " 59  garage_type      1938 non-null   object \n",
      " 60  garage_yr_blt    1937 non-null   float64\n",
      " 61  garage_finish    1937 non-null   object \n",
      " 62  garage_cars      2050 non-null   float64\n",
      " 63  garage_area      2050 non-null   float64\n",
      " 64  garage_qual      1937 non-null   object \n",
      " 65  garage_cond      1937 non-null   object \n",
      " 66  paved_drive      2051 non-null   object \n",
      " 67  wood_deck_sf     2051 non-null   int64  \n",
      " 68  open_porch_sf    2051 non-null   int64  \n",
      " 69  enclosed_porch   2051 non-null   int64  \n",
      " 70  3ssn_porch       2051 non-null   int64  \n",
      " 71  screen_porch     2051 non-null   int64  \n",
      " 72  pool_area        2051 non-null   int64  \n",
      " 73  pool_qc          9 non-null      object \n",
      " 74  fence            400 non-null    object \n",
      " 75  misc_feature     65 non-null     object \n",
      " 76  misc_val         2051 non-null   int64  \n",
      " 77  mo_sold          2051 non-null   int64  \n",
      " 78  yr_sold          2051 non-null   int64  \n",
      " 79  sale_type        2051 non-null   object \n",
      " 80  saleprice        2051 non-null   int64  \n",
      "dtypes: float64(11), int64(28), object(42)\n",
      "memory usage: 1.3+ MB\n"
     ]
    }
   ],
   "source": [
    "# check for nulls and dtypes\n",
    "tr.info()"
   ]
  },
  {
   "cell_type": "markdown",
   "metadata": {},
   "source": [
    "#### I used a few heatmaps to find columns of correlations to model with"
   ]
  },
  {
   "cell_type": "code",
   "execution_count": 71,
   "metadata": {},
   "outputs": [
    {
     "data": {
      "image/png": "[encoded data removed]",
      "text/plain": [
       "<Figure size 1152x648 with 2 Axes>"
      ]
     },
     "metadata": {
      "needs_background": "light"
     },
     "output_type": "display_data"
    },
    {
     "data": {
      "image/png": "[encoded data removed]",
      "text/plain": [
       "<Figure size 1152x1152 with 2 Axes>"
      ]
     },
     "metadata": {
      "needs_background": "light"
     },
     "output_type": "display_data"
    }
   ],
   "source": [
    "plt.figure(figsize=(16,9))\n",
    "sns.heatmap(tr.corr());\n",
    "\n",
    "tr_corr = tr.corr()\n",
    "plt.figure(figsize=(16,16))\n",
    "sns.heatmap(tr_corr[['saleprice']].sort_values(by=['saleprice'], ascending=False), vmin=-1, vmax=1, annot=True);"
   ]
  },
  {
   "cell_type": "markdown",
   "metadata": {},
   "source": [
    "#### Create a list of columns with any nulls"
   ]
  },
  {
   "cell_type": "code",
   "execution_count": 7,
   "metadata": {},
   "outputs": [],
   "source": [
    "# created a list of columns with any nulls\n",
    "tr_nulls = list(tr.columns[tr.isnull().any()])\n",
    "\n",
    "# created a list of columns with any nulls\n",
    "tst_nulls = list(tst.columns[tst.isnull().any()])"
   ]
  },
  {
   "cell_type": "markdown",
   "metadata": {},
   "source": [
    "#### Here I loop through the columns created above, and if the dtype is object, I add it to a new list of alpha_nulls, and do the same for numeric dtypes in num_nulls. Then I print out the unique values of the alpha_nulls, so I can check them against the data dictionary."
   ]
  },
  {
   "cell_type": "code",
   "execution_count": 8,
   "metadata": {
    "scrolled": true
   },
   "outputs": [
    {
     "name": "stdout",
     "output_type": "stream",
     "text": [
      "lot_frontage is numeric\n",
      "mas_vnr_area is numeric\n",
      "bsmtfin_sf_1 is numeric\n",
      "bsmtfin_sf_2 is numeric\n",
      "bsmt_unf_sf is numeric\n",
      "total_bsmt_sf is numeric\n",
      "bsmt_full_bath is numeric\n",
      "bsmt_half_bath is numeric\n",
      "garage_yr_blt is numeric\n",
      "garage_cars is numeric\n",
      "garage_area is numeric\n",
      "alley : [nan 'Pave' 'Grvl']\n",
      "mas_vnr_type : ['BrkFace' 'None' nan 'Stone' 'BrkCmn']\n",
      "bsmt_qual : ['TA' 'Gd' 'Fa' nan 'Ex' 'Po']\n",
      "bsmt_cond : ['TA' 'Gd' nan 'Fa' 'Po' 'Ex']\n",
      "bsmt_exposure : ['No' 'Gd' 'Av' nan 'Mn']\n",
      "bsmtfin_type_1 : ['GLQ' 'Unf' 'ALQ' 'Rec' nan 'BLQ' 'LwQ']\n",
      "bsmtfin_type_2 : ['Unf' 'Rec' nan 'BLQ' 'GLQ' 'LwQ' 'ALQ']\n",
      "fireplace_qu : [nan 'TA' 'Gd' 'Po' 'Ex' 'Fa']\n",
      "garage_type : ['Attchd' 'Detchd' 'BuiltIn' 'Basment' nan '2Types' 'CarPort']\n",
      "garage_finish : ['RFn' 'Unf' 'Fin' nan]\n",
      "garage_qual : ['TA' 'Fa' nan 'Gd' 'Ex' 'Po']\n",
      "garage_cond : ['TA' 'Fa' nan 'Po' 'Gd' 'Ex']\n",
      "pool_qc : [nan 'Fa' 'Gd' 'Ex' 'TA']\n",
      "fence : [nan 'MnPrv' 'GdPrv' 'GdWo' 'MnWw']\n",
      "misc_feature : [nan 'Shed' 'TenC' 'Gar2' 'Othr' 'Elev']\n",
      "lot_frontage is numeric\n",
      "mas_vnr_area is numeric\n",
      "garage_yr_blt is numeric\n",
      "alley : ['Grvl' nan 'Pave']\n",
      "mas_vnr_type : ['None' 'BrkFace' 'Stone' 'BrkCmn' 'CBlock' nan]\n",
      "bsmt_qual : ['Fa' 'Gd' 'TA' 'Ex' nan 'Po']\n",
      "bsmt_cond : ['TA' 'Gd' nan 'Fa']\n",
      "bsmt_exposure : ['No' 'Av' nan 'Mn' 'Gd']\n",
      "bsmtfin_type_1 : ['Unf' 'GLQ' 'BLQ' 'Rec' 'ALQ' nan 'LwQ']\n",
      "bsmtfin_type_2 : ['Unf' 'LwQ' nan 'ALQ' 'GLQ' 'Rec' 'BLQ']\n",
      "electrical : ['FuseP' 'SBrkr' 'FuseA' 'FuseF' nan]\n",
      "fireplace_qu : [nan 'Gd' 'Fa' 'TA' 'Po' 'Ex']\n",
      "garage_type : ['Detchd' 'Attchd' 'BuiltIn' nan '2Types' 'CarPort' 'Basment']\n",
      "garage_finish : ['Unf' 'Fin' 'RFn' nan]\n",
      "garage_qual : ['Po' 'TA' 'Fa' nan 'Gd']\n",
      "garage_cond : ['Po' 'TA' nan 'Fa' 'Gd' 'Ex']\n",
      "pool_qc : [nan 'Ex' 'TA']\n",
      "fence : [nan 'MnPrv' 'GdPrv' 'GdWo' 'MnWw']\n",
      "misc_feature : [nan 'Shed' 'Othr' 'Gar2']\n"
     ]
    }
   ],
   "source": [
    "# loop though those columns, and if the datatype isn't an int/float, add it to a new list\n",
    "# print the unique values of columns in new list to check against data dictionary\n",
    "tr_alpha_nulls = []\n",
    "tr_num_nulls = []\n",
    "for i in tr_nulls:\n",
    "    if tr[i].dtypes == 'O':\n",
    "        tr_alpha_nulls.append(i)\n",
    "    else:\n",
    "        tr_num_nulls.append(i)\n",
    "        print(f'{i} is numeric')\n",
    "        \n",
    "for i in tr_alpha_nulls:\n",
    "    print(f'{i} : {tr[i].unique()}')\n",
    "\n",
    "# loop though those columns, and if the datatype isn't an int/float, add it to a new list\n",
    "# print the unique values of columns in new list to check against data dictionary\n",
    "tst_alpha_nulls = []\n",
    "tst_num_nulls = []\n",
    "for i in tst_nulls:\n",
    "    if tst[i].dtypes == 'O':\n",
    "        tst_alpha_nulls.append(i)\n",
    "    else:\n",
    "        tst_num_nulls.append(i)\n",
    "        print(f'{i} is numeric')\n",
    "        \n",
    "for i in tst_alpha_nulls:\n",
    "    print(f'{i} : {tst[i].unique()}')"
   ]
  },
  {
   "cell_type": "markdown",
   "metadata": {},
   "source": [
    "# 2. Imputing data"
   ]
  },
  {
   "cell_type": "markdown",
   "metadata": {},
   "source": [
    "### This is a very brute-force method to imputing, but it is quick and somewhat meaningful. This way at least there is at least some reasoning behind it, and I don't have to drop large numbers of observations, but minimize the effect on the model. Focus is on speed at this point."
   ]
  },
  {
   "cell_type": "markdown",
   "metadata": {},
   "source": [
    "#### After checking the data dictionary, it became clear that some of the values were erroneously replaced by nulls when they should just be 'NA'. So here is where I impute the NA's back."
   ]
  },
  {
   "cell_type": "code",
   "execution_count": 9,
   "metadata": {},
   "outputs": [
    {
     "name": "stdout",
     "output_type": "stream",
     "text": [
      "alley:['NA' 'Pave' 'Grvl']\n",
      "mas_vnr_type:['BrkFace' 'None' 'NA' 'Stone' 'BrkCmn']\n",
      "bsmt_qual:['TA' 'Gd' 'Fa' 'NA' 'Ex' 'Po']\n",
      "bsmt_cond:['TA' 'Gd' 'NA' 'Fa' 'Po' 'Ex']\n",
      "bsmt_exposure:['No' 'Gd' 'Av' 'NA' 'Mn']\n",
      "bsmtfin_type_1:['GLQ' 'Unf' 'ALQ' 'Rec' 'NA' 'BLQ' 'LwQ']\n",
      "bsmtfin_type_2:['Unf' 'Rec' 'NA' 'BLQ' 'GLQ' 'LwQ' 'ALQ']\n",
      "fireplace_qu:['NA' 'TA' 'Gd' 'Po' 'Ex' 'Fa']\n",
      "garage_type:['Attchd' 'Detchd' 'BuiltIn' 'Basment' 'NA' '2Types' 'CarPort']\n",
      "garage_finish:['RFn' 'Unf' 'Fin' 'NA']\n",
      "garage_qual:['TA' 'Fa' 'NA' 'Gd' 'Ex' 'Po']\n",
      "garage_cond:['TA' 'Fa' 'NA' 'Po' 'Gd' 'Ex']\n",
      "pool_qc:['NA' 'Fa' 'Gd' 'Ex' 'TA']\n",
      "fence:['NA' 'MnPrv' 'GdPrv' 'GdWo' 'MnWw']\n",
      "misc_feature:['NA' 'Shed' 'TenC' 'Gar2' 'Othr' 'Elev']\n",
      "alley:['Grvl' 'NA' 'Pave']\n",
      "mas_vnr_type:['None' 'BrkFace' 'Stone' 'BrkCmn' 'CBlock' 'NA']\n",
      "bsmt_qual:['Fa' 'Gd' 'TA' 'Ex' 'NA' 'Po']\n",
      "bsmt_cond:['TA' 'Gd' 'NA' 'Fa']\n",
      "bsmt_exposure:['No' 'Av' 'NA' 'Mn' 'Gd']\n",
      "bsmtfin_type_1:['Unf' 'GLQ' 'BLQ' 'Rec' 'ALQ' 'NA' 'LwQ']\n",
      "bsmtfin_type_2:['Unf' 'LwQ' 'NA' 'ALQ' 'GLQ' 'Rec' 'BLQ']\n",
      "electrical:['FuseP' 'SBrkr' 'FuseA' 'FuseF' 'NA']\n",
      "fireplace_qu:['NA' 'Gd' 'Fa' 'TA' 'Po' 'Ex']\n",
      "garage_type:['Detchd' 'Attchd' 'BuiltIn' 'NA' '2Types' 'CarPort' 'Basment']\n",
      "garage_finish:['Unf' 'Fin' 'RFn' 'NA']\n",
      "garage_qual:['Po' 'TA' 'Fa' 'NA' 'Gd']\n",
      "garage_cond:['Po' 'TA' 'NA' 'Fa' 'Gd' 'Ex']\n",
      "pool_qc:['NA' 'Ex' 'TA']\n",
      "fence:['NA' 'MnPrv' 'GdPrv' 'GdWo' 'MnWw']\n",
      "misc_feature:['NA' 'Shed' 'Othr' 'Gar2']\n"
     ]
    }
   ],
   "source": [
    "## after checking data dictionary for possible explanations, \n",
    "## realized that NA's were replaced by np.nan\n",
    "# got tired of imputing values by column, used list from above for where \n",
    "# nan should be replaced by NA, passed list to loop\n",
    "for column in tr_alpha_nulls:\n",
    "    tr[column] = np.where(tr[column].isnull(), 'NA', tr[column])\n",
    "    print(f'{column}:{tr[column].unique()}')\n",
    "    \n",
    "for column in tst_alpha_nulls:\n",
    "    tst[column] = np.where(tst[column].isnull(), 'NA', tst[column])\n",
    "    print(f'{column}:{tst[column].unique()}')"
   ]
  },
  {
   "cell_type": "markdown",
   "metadata": {},
   "source": [
    "#### The nulls in mas_vnr_area are likely actually 0, as in these houses just don't have any masonry at all. So by filtering the nulls with the rows where mas_vnr_type = NA, I can impute the 0 value for the area."
   ]
  },
  {
   "cell_type": "code",
   "execution_count": 10,
   "metadata": {},
   "outputs": [],
   "source": [
    "# filtering for rows with null 'mas_vnr_area', and null 'mas_vnr_type'\n",
    "# those are likely to actually be 0 (as in they don't have any masonry)\n",
    "tr_filter_index = tr[(tr['mas_vnr_area'].isnull()) & (tr['mas_vnr_type']=='NA')].index\n",
    "tst_filter_index = tst[(tst['mas_vnr_area'].isnull()) & (tst['mas_vnr_type']=='NA')].index\n",
    "\n",
    "# use the list of index from above to put the value at 0\n",
    "for i in tr_filter_index:\n",
    "    tr.at[i, 'mas_vnr_area'] = 0\n",
    "    \n",
    "for i in tst_filter_index:\n",
    "    tst.at[i, 'mas_vnr_area'] = 0"
   ]
  },
  {
   "cell_type": "markdown",
   "metadata": {},
   "source": [
    "#### The rest of the mas_vnr_type are actually probably CBlock, since the data dictionary has no entry for NA."
   ]
  },
  {
   "cell_type": "code",
   "execution_count": 11,
   "metadata": {},
   "outputs": [],
   "source": [
    "# mas_vnr_type is an exception to this rule, it already has a \"none\" value, but is missing it's\n",
    "# 'CBlock' values acc to data dictionary.\n",
    "# changed those NA's to CBlock\n",
    "tr['mas_vnr_type'] = np.where(tr['mas_vnr_type'] == 'NA', 'CBlock', tr['mas_vnr_type'])\n",
    "tst['mas_vnr_type'] = np.where(tst['mas_vnr_type'] == 'NA', 'CBlock', tst['mas_vnr_type'])"
   ]
  },
  {
   "cell_type": "markdown",
   "metadata": {},
   "source": [
    "#### Imputing the rest of the numeric columns with 0 because they are probably actually 0 like above."
   ]
  },
  {
   "cell_type": "code",
   "execution_count": 12,
   "metadata": {},
   "outputs": [],
   "source": [
    "# removed lot_frontage from list, will impute separately\n",
    "tr_num_nulls.remove('lot_frontage')\n",
    "tr_num_nulls.remove('mas_vnr_area')\n",
    "tst_num_nulls.remove('lot_frontage')\n",
    "tst_num_nulls.remove('mas_vnr_area')"
   ]
  },
  {
   "cell_type": "code",
   "execution_count": 13,
   "metadata": {},
   "outputs": [],
   "source": [
    "# impute the value of 0 for the nulls in numerical nulls.\n",
    "tr[tr_num_nulls] = np.where(tr[tr_num_nulls].isnull(), 0, tr[tr_num_nulls])\n",
    "tst[tst_num_nulls] = np.where(tst[tst_num_nulls].isnull(), 0, tst[tst_num_nulls])"
   ]
  },
  {
   "cell_type": "markdown",
   "metadata": {},
   "source": [
    "#### Imputing lot_frontage according to the mean of their neighborhood. This avoids imputing a 0, and since all lots likely have frontage (as I understand it), this makes most sense."
   ]
  },
  {
   "cell_type": "code",
   "execution_count": 14,
   "metadata": {},
   "outputs": [],
   "source": [
    "# replace lot_frontage nulls with the mean of lot_frontage (without nulls)\n",
    "tr['lot_frontage'] = np.where(tr['lot_frontage'].isnull(), tr['lot_frontage'].dropna().mean(), tr['lot_frontage'])\n",
    "tst['lot_frontage'] = np.where(tst['lot_frontage'].isnull(), tst['lot_frontage'].dropna().mean(), tst['lot_frontage'])"
   ]
  },
  {
   "cell_type": "markdown",
   "metadata": {},
   "source": [
    "#### Changing the below ranking system into a dictionary to replace using OrdinalEncoder()\n",
    "       Ex\tExcellent\n",
    "       Gd\tGood\n",
    "       TA\tTypical - slight dampness allowed\n",
    "       Fa\tFair - dampness or some cracking or settling\n",
    "       Po\tPoor - Severe cracking, settling, or wetness\n",
    "       NA\tNo Basement"
   ]
  },
  {
   "cell_type": "code",
   "execution_count": 15,
   "metadata": {},
   "outputs": [],
   "source": [
    "X = ['bsmt_qual', 'bsmt_cond', 'fireplace_qu', 'garage_qual', 'garage_cond', 'pool_qc', 'exter_cond', 'exter_qual', 'heating_qc', 'kitchen_qual', 'heating_qc']\n",
    "cats={'NA':0,'Po':1,'Fa':2,'TA':3,'Gd':4,'Ex':5}"
   ]
  },
  {
   "cell_type": "markdown",
   "metadata": {},
   "source": [
    "## Change ordinal columns to ordinal integers (couldn't figure out how to make the 'OrdinalEncoder' from sklearn work)."
   ]
  },
  {
   "cell_type": "code",
   "execution_count": 16,
   "metadata": {},
   "outputs": [],
   "source": [
    "def ordinalize(df, X):\n",
    "    for column in X:\n",
    "            df[column] = df[column].replace('NA', 0)\n",
    "            df[column] = df[column].replace('Po', 1)\n",
    "            df[column] = df[column].replace('Fa', 2)\n",
    "            df[column] = df[column].replace('TA', 3)\n",
    "            df[column] = df[column].replace('Gd', 4)\n",
    "            df[column] = df[column].replace('Ex', 5)\n",
    "\n",
    "ordinalize(tr, X)\n",
    "ordinalize(tst, X)"
   ]
  },
  {
   "cell_type": "code",
   "execution_count": 17,
   "metadata": {},
   "outputs": [
    {
     "data": {
      "text/plain": [
       "0       3\n",
       "1       4\n",
       "2       3\n",
       "3       4\n",
       "4       2\n",
       "       ..\n",
       "2046    4\n",
       "2047    3\n",
       "2048    3\n",
       "2049    3\n",
       "2050    3\n",
       "Name: bsmt_qual, Length: 2051, dtype: int64"
      ]
     },
     "execution_count": 17,
     "metadata": {},
     "output_type": "execute_result"
    }
   ],
   "source": [
    "# Testing to make sure it worked\n",
    "tr['bsmt_qual']"
   ]
  },
  {
   "cell_type": "markdown",
   "metadata": {},
   "source": [
    "## Dummify nomial columns. This made it too hard for me to model, so I undid it, but the code is still here."
   ]
  },
  {
   "cell_type": "code",
   "execution_count": 18,
   "metadata": {},
   "outputs": [],
   "source": [
    "# nominal_columns = tr.select_dtypes(include='object').columns"
   ]
  },
  {
   "cell_type": "code",
   "execution_count": 19,
   "metadata": {},
   "outputs": [],
   "source": [
    "# # tr = pd.get_dummies(tr,columns=nominal_columns,drop_first=True)\n",
    "# tst = pd.get_dummies(tst,columns=nominal_columns,drop_first=True)"
   ]
  },
  {
   "cell_type": "markdown",
   "metadata": {},
   "source": [
    "# 3. Modeling. \n",
    "#### Making a model that uses all numeric columns."
   ]
  },
  {
   "cell_type": "code",
   "execution_count": 20,
   "metadata": {},
   "outputs": [
    {
     "name": "stderr",
     "output_type": "stream",
     "text": [
      "/Users/mackmcgowen/opt/anaconda3/envs/dsi/lib/python3.7/site-packages/pandas/core/frame.py:3997: SettingWithCopyWarning: \n",
      "A value is trying to be set on a copy of a slice from a DataFrame\n",
      "\n",
      "See the caveats in the documentation: https://pandas.pydata.org/pandas-docs/stable/user_guide/indexing.html#returning-a-view-versus-a-copy\n",
      "  errors=errors,\n"
     ]
    }
   ],
   "source": [
    "features = tr.select_dtypes(include='number')\n",
    "\n",
    "features.drop(columns=['saleprice', 'id', 'pid'], inplace=True)"
   ]
  },
  {
   "cell_type": "code",
   "execution_count": 36,
   "metadata": {},
   "outputs": [],
   "source": [
    "X = features\n",
    "y = tr['saleprice']"
   ]
  },
  {
   "cell_type": "code",
   "execution_count": 37,
   "metadata": {},
   "outputs": [],
   "source": [
    "X_train, X_test, y_train, y_test = train_test_split(X, y, random_state=123)"
   ]
  },
  {
   "cell_type": "code",
   "execution_count": 38,
   "metadata": {},
   "outputs": [],
   "source": [
    "# Scaling caused me a bunch of issues, so I undid it. I need to review this part, perhaps the labs will help.\n",
    "# sc = StandardScaler()\n",
    "# Z_train = sc.fit_transform(X_train)\n",
    "# Z_test = sc.transform(X_test)"
   ]
  },
  {
   "cell_type": "code",
   "execution_count": 39,
   "metadata": {},
   "outputs": [],
   "source": [
    "lr = LinearRegression(n_jobs=-1)\n",
    "lr.fit(X, y)\n",
    "lr.score(X_test, y_test)\n",
    "ypred_tr = lr.predict(X_test)"
   ]
  },
  {
   "cell_type": "code",
   "execution_count": 42,
   "metadata": {},
   "outputs": [
    {
     "name": "stdout",
     "output_type": "stream",
     "text": [
      "0.8177177274301645\n",
      "29884.65824889407\n"
     ]
    }
   ],
   "source": [
    "print(cross_val_score(lr, X, y).mean())\n",
    "print(mean_squared_error(y_test, ypred_tr, squared=False))"
   ]
  },
  {
   "cell_type": "markdown",
   "metadata": {},
   "source": [
    "#### Tried another model which used the features which were highly correlated with sale price. This model actually performed worse on R2 score and a worse RMSE."
   ]
  },
  {
   "cell_type": "code",
   "execution_count": 43,
   "metadata": {},
   "outputs": [],
   "source": [
    "X = tr[['full_bath', 'year_remod/add', 'gr_liv_area', 'year_built', 'total_bsmt_sf', 'garage_area','overall_qual']]\n",
    "y = tr['saleprice']"
   ]
  },
  {
   "cell_type": "code",
   "execution_count": 44,
   "metadata": {},
   "outputs": [],
   "source": [
    "X_train2, X_test2, y_train2, y_test2 = train_test_split(X, y, random_state=123)"
   ]
  },
  {
   "cell_type": "code",
   "execution_count": 45,
   "metadata": {},
   "outputs": [],
   "source": [
    "lr2 = LinearRegression(n_jobs=-1)\n",
    "lr2.fit(X_train2, y_train2)\n",
    "ypred_tr_2 = lr2.predict(X_test2)"
   ]
  },
  {
   "cell_type": "code",
   "execution_count": 46,
   "metadata": {},
   "outputs": [
    {
     "name": "stdout",
     "output_type": "stream",
     "text": [
      "0.6019858809893538\n",
      "37288.001149964184\n"
     ]
    }
   ],
   "source": [
    "print(cross_val_score(lr2, X_test2, y_test2).mean())\n",
    "print(mean_squared_error(y_test2, ypred_tr_2, squared=False))"
   ]
  },
  {
   "cell_type": "markdown",
   "metadata": {},
   "source": [
    "# 4. Kaggle submissions"
   ]
  },
  {
   "cell_type": "markdown",
   "metadata": {},
   "source": [
    "####  Using the first model to give me predictions for test data."
   ]
  },
  {
   "cell_type": "code",
   "execution_count": 55,
   "metadata": {},
   "outputs": [],
   "source": [
    "tst_features = tst.select_dtypes(include='number')"
   ]
  },
  {
   "cell_type": "code",
   "execution_count": 56,
   "metadata": {},
   "outputs": [
    {
     "name": "stderr",
     "output_type": "stream",
     "text": [
      "/Users/mackmcgowen/opt/anaconda3/envs/dsi/lib/python3.7/site-packages/pandas/core/frame.py:3997: SettingWithCopyWarning: \n",
      "A value is trying to be set on a copy of a slice from a DataFrame\n",
      "\n",
      "See the caveats in the documentation: https://pandas.pydata.org/pandas-docs/stable/user_guide/indexing.html#returning-a-view-versus-a-copy\n",
      "  errors=errors,\n"
     ]
    }
   ],
   "source": [
    "tst_features.drop(columns=['id', 'pid'], inplace=True)"
   ]
  },
  {
   "cell_type": "code",
   "execution_count": 57,
   "metadata": {},
   "outputs": [],
   "source": [
    "ypred_kaggle = lr.predict(tst_features)"
   ]
  },
  {
   "cell_type": "code",
   "execution_count": 58,
   "metadata": {},
   "outputs": [],
   "source": [
    "# creating dataframe from id numbers\n",
    "kaggle = pd.DataFrame(data=tst.id)"
   ]
  },
  {
   "cell_type": "code",
   "execution_count": 59,
   "metadata": {},
   "outputs": [],
   "source": [
    "# adding saleprice column from ypred_kaggle\n",
    "kaggle['SalePrice'] = ypred_kaggle"
   ]
  },
  {
   "cell_type": "code",
   "execution_count": 60,
   "metadata": {},
   "outputs": [],
   "source": [
    "# renaming columns to fit kaggle demands\n",
    "kaggle.rename(columns={'id':'Id'}, inplace=True)"
   ]
  },
  {
   "cell_type": "code",
   "execution_count": 61,
   "metadata": {},
   "outputs": [
    {
     "data": {
      "text/html": [
       "<div>\n",
       "<style scoped>\n",
       "    .dataframe tbody tr th:only-of-type {\n",
       "        vertical-align: middle;\n",
       "    }\n",
       "\n",
       "    .dataframe tbody tr th {\n",
       "        vertical-align: top;\n",
       "    }\n",
       "\n",
       "    .dataframe thead th {\n",
       "        text-align: right;\n",
       "    }\n",
       "</style>\n",
       "<table border=\"1\" class=\"dataframe\">\n",
       "  <thead>\n",
       "    <tr style=\"text-align: right;\">\n",
       "      <th></th>\n",
       "      <th>Id</th>\n",
       "      <th>SalePrice</th>\n",
       "    </tr>\n",
       "  </thead>\n",
       "  <tbody>\n",
       "    <tr>\n",
       "      <th>0</th>\n",
       "      <td>2658</td>\n",
       "      <td>104258.526468</td>\n",
       "    </tr>\n",
       "    <tr>\n",
       "      <th>1</th>\n",
       "      <td>2718</td>\n",
       "      <td>159403.465775</td>\n",
       "    </tr>\n",
       "    <tr>\n",
       "      <th>2</th>\n",
       "      <td>2414</td>\n",
       "      <td>217310.416661</td>\n",
       "    </tr>\n",
       "    <tr>\n",
       "      <th>3</th>\n",
       "      <td>1989</td>\n",
       "      <td>114287.907165</td>\n",
       "    </tr>\n",
       "    <tr>\n",
       "      <th>4</th>\n",
       "      <td>625</td>\n",
       "      <td>197350.305268</td>\n",
       "    </tr>\n",
       "    <tr>\n",
       "      <th>...</th>\n",
       "      <td>...</td>\n",
       "      <td>...</td>\n",
       "    </tr>\n",
       "    <tr>\n",
       "      <th>873</th>\n",
       "      <td>1662</td>\n",
       "      <td>189850.074912</td>\n",
       "    </tr>\n",
       "    <tr>\n",
       "      <th>874</th>\n",
       "      <td>1234</td>\n",
       "      <td>231087.590714</td>\n",
       "    </tr>\n",
       "    <tr>\n",
       "      <th>875</th>\n",
       "      <td>1373</td>\n",
       "      <td>123750.268735</td>\n",
       "    </tr>\n",
       "    <tr>\n",
       "      <th>876</th>\n",
       "      <td>1672</td>\n",
       "      <td>104452.815460</td>\n",
       "    </tr>\n",
       "    <tr>\n",
       "      <th>877</th>\n",
       "      <td>1939</td>\n",
       "      <td>115434.911354</td>\n",
       "    </tr>\n",
       "  </tbody>\n",
       "</table>\n",
       "<p>878 rows × 2 columns</p>\n",
       "</div>"
      ],
      "text/plain": [
       "       Id      SalePrice\n",
       "0    2658  104258.526468\n",
       "1    2718  159403.465775\n",
       "2    2414  217310.416661\n",
       "3    1989  114287.907165\n",
       "4     625  197350.305268\n",
       "..    ...            ...\n",
       "873  1662  189850.074912\n",
       "874  1234  231087.590714\n",
       "875  1373  123750.268735\n",
       "876  1672  104452.815460\n",
       "877  1939  115434.911354\n",
       "\n",
       "[878 rows x 2 columns]"
      ]
     },
     "execution_count": 61,
     "metadata": {},
     "output_type": "execute_result"
    }
   ],
   "source": [
    "kaggle"
   ]
  },
  {
   "cell_type": "code",
   "execution_count": 40,
   "metadata": {},
   "outputs": [],
   "source": [
    "# saving to csv to submit to kaggle\n",
    "kaggle.to_csv('./datasets/kaggle.csv',index=False)"
   ]
  }
 ],
 "metadata": {
  "kernelspec": {
   "display_name": "Python [conda env:dsi] *",
   "language": "python",
   "name": "conda-env-dsi-py"
  },
  "language_info": {
   "codemirror_mode": {
    "name": "ipython",
    "version": 3
   },
   "file_extension": ".py",
   "mimetype": "text/x-python",
   "name": "python",
   "nbconvert_exporter": "python",
   "pygments_lexer": "ipython3",
   "version": "3.7.7"
  }
 },
 "nbformat": 4,
 "nbformat_minor": 4
}
