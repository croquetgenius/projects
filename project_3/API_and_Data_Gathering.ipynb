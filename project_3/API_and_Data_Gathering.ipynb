{
 "cells": [
  {
   "cell_type": "markdown",
   "metadata": {},
   "source": [
    "# API and Data Gathering"
   ]
  },
  {
   "cell_type": "code",
   "execution_count": 1,
   "metadata": {},
   "outputs": [],
   "source": [
    "import requests\n",
    "import pandas as pd\n",
    "import numpy as np"
   ]
  },
  {
   "cell_type": "code",
   "execution_count": 2,
   "metadata": {},
   "outputs": [],
   "source": [
    "# Function go pull data for whatever subreddit I want\n",
    "def pull(subreddit):\n",
    "    url = 'https://api.pushshift.io/reddit/search/submission'    # set url as pushapi\n",
    "    \n",
    "    # set params, chose minimum number of comments to weed out some weak posts\n",
    "    params = {\n",
    "        'subreddit':subreddit,\n",
    "        'size':500,\n",
    "        'num_comments': '=>10'\n",
    "    }\n",
    "    \n",
    "    # use request to pull data from reddit\n",
    "    res = requests.get(url, params)\n",
    "    print(res.status_code)\n",
    "    \n",
    "    # set posts as the data portion of the pull\n",
    "    posts = res.json()['data']\n",
    "    print(len(posts))\n",
    "    \n",
    "    # create dataframe from posts\n",
    "    df = pd.DataFrame(posts)\n",
    "    \n",
    "    # set utc as the date of the last post\n",
    "    utc = posts[-1]['created_utc']\n",
    "    \n",
    "    # change parameters to pull 500 more older than the oldest post from the previous pull\n",
    "    params = {\n",
    "        'subreddit':subreddit,\n",
    "        'size':500,\n",
    "        'before':int(utc),\n",
    "        'num_comments': '=>10'\n",
    "    }\n",
    "    \n",
    "    # use request to pull data from reddit\n",
    "    res = requests.get(url, params)\n",
    "    print(res.status_code)\n",
    "    \n",
    "    # set posts as the data portion of the pull    \n",
    "    posts = res.json()['data']\n",
    "    print(len(posts))\n",
    "\n",
    "    # create dataframe from posts\n",
    "    df2 = pd.DataFrame(posts)\n",
    "    \n",
    "    # append the second dataframe to the first, then make a copy containing only the columns we want\n",
    "    df = df.append(df2)\n",
    "    df = df[['subreddit','selftext', 'title']].copy()\n",
    "    \n",
    "    return df\n",
    "    \n",
    "    "
   ]
  },
  {
   "cell_type": "code",
   "execution_count": 3,
   "metadata": {},
   "outputs": [
    {
     "name": "stdout",
     "output_type": "stream",
     "text": [
      "200\n",
      "500\n",
      "200\n",
      "500\n"
     ]
    }
   ],
   "source": [
    "# use function to create dataframe\n",
    "df_python = pull('Python')"
   ]
  },
  {
   "cell_type": "code",
   "execution_count": 4,
   "metadata": {},
   "outputs": [
    {
     "data": {
      "text/html": [
       "<div>\n",
       "<style scoped>\n",
       "    .dataframe tbody tr th:only-of-type {\n",
       "        vertical-align: middle;\n",
       "    }\n",
       "\n",
       "    .dataframe tbody tr th {\n",
       "        vertical-align: top;\n",
       "    }\n",
       "\n",
       "    .dataframe thead th {\n",
       "        text-align: right;\n",
       "    }\n",
       "</style>\n",
       "<table border=\"1\" class=\"dataframe\">\n",
       "  <thead>\n",
       "    <tr style=\"text-align: right;\">\n",
       "      <th></th>\n",
       "      <th>subreddit</th>\n",
       "      <th>selftext</th>\n",
       "      <th>title</th>\n",
       "    </tr>\n",
       "  </thead>\n",
       "  <tbody>\n",
       "    <tr>\n",
       "      <th>0</th>\n",
       "      <td>Python</td>\n",
       "      <td>I want to open multiple SSH session, one to my...</td>\n",
       "      <td>Paramiko Multiple SSH session</td>\n",
       "    </tr>\n",
       "    <tr>\n",
       "      <th>1</th>\n",
       "      <td>Python</td>\n",
       "      <td></td>\n",
       "      <td>[100% OFF] Decision Trees, Random Forests, Ada...</td>\n",
       "    </tr>\n",
       "    <tr>\n",
       "      <th>2</th>\n",
       "      <td>Python</td>\n",
       "      <td>I have to write a script for 10 children in cl...</td>\n",
       "      <td>Need some help from the smart people .</td>\n",
       "    </tr>\n",
       "    <tr>\n",
       "      <th>3</th>\n",
       "      <td>Python</td>\n",
       "      <td></td>\n",
       "      <td>I made Tinder Bot written in Python Selenium</td>\n",
       "    </tr>\n",
       "    <tr>\n",
       "      <th>4</th>\n",
       "      <td>Python</td>\n",
       "      <td>Streamlit: [https://www.streamlit.io/](https:/...</td>\n",
       "      <td>Is it possible to host a streamlit app on Vercel?</td>\n",
       "    </tr>\n",
       "  </tbody>\n",
       "</table>\n",
       "</div>"
      ],
      "text/plain": [
       "  subreddit                                           selftext  \\\n",
       "0    Python  I want to open multiple SSH session, one to my...   \n",
       "1    Python                                                      \n",
       "2    Python  I have to write a script for 10 children in cl...   \n",
       "3    Python                                                      \n",
       "4    Python  Streamlit: [https://www.streamlit.io/](https:/...   \n",
       "\n",
       "                                               title  \n",
       "0                      Paramiko Multiple SSH session  \n",
       "1  [100% OFF] Decision Trees, Random Forests, Ada...  \n",
       "2             Need some help from the smart people .  \n",
       "3       I made Tinder Bot written in Python Selenium  \n",
       "4  Is it possible to host a streamlit app on Vercel?  "
      ]
     },
     "execution_count": 4,
     "metadata": {},
     "output_type": "execute_result"
    }
   ],
   "source": [
    "df_python.head()"
   ]
  },
  {
   "cell_type": "code",
   "execution_count": 5,
   "metadata": {},
   "outputs": [
    {
     "data": {
      "text/plain": [
       "False    959\n",
       "True      41\n",
       "dtype: int64"
      ]
     },
     "execution_count": 5,
     "metadata": {},
     "output_type": "execute_result"
    }
   ],
   "source": [
    "df_python.duplicated(subset='title').value_counts()"
   ]
  },
  {
   "cell_type": "code",
   "execution_count": 6,
   "metadata": {},
   "outputs": [
    {
     "name": "stdout",
     "output_type": "stream",
     "text": [
      "<class 'pandas.core.frame.DataFrame'>\n",
      "Int64Index: 1000 entries, 0 to 499\n",
      "Data columns (total 3 columns):\n",
      " #   Column     Non-Null Count  Dtype \n",
      "---  ------     --------------  ----- \n",
      " 0   subreddit  1000 non-null   object\n",
      " 1   selftext   996 non-null    object\n",
      " 2   title      1000 non-null   object\n",
      "dtypes: object(3)\n",
      "memory usage: 31.2+ KB\n"
     ]
    }
   ],
   "source": [
    "df_python.info()"
   ]
  },
  {
   "cell_type": "markdown",
   "metadata": {},
   "source": [
    "# For r/golang"
   ]
  },
  {
   "cell_type": "code",
   "execution_count": 7,
   "metadata": {},
   "outputs": [
    {
     "name": "stdout",
     "output_type": "stream",
     "text": [
      "200\n",
      "500\n",
      "200\n",
      "500\n"
     ]
    }
   ],
   "source": [
    "df_go = pull('golang')"
   ]
  },
  {
   "cell_type": "code",
   "execution_count": 8,
   "metadata": {},
   "outputs": [
    {
     "data": {
      "text/html": [
       "<div>\n",
       "<style scoped>\n",
       "    .dataframe tbody tr th:only-of-type {\n",
       "        vertical-align: middle;\n",
       "    }\n",
       "\n",
       "    .dataframe tbody tr th {\n",
       "        vertical-align: top;\n",
       "    }\n",
       "\n",
       "    .dataframe thead th {\n",
       "        text-align: right;\n",
       "    }\n",
       "</style>\n",
       "<table border=\"1\" class=\"dataframe\">\n",
       "  <thead>\n",
       "    <tr style=\"text-align: right;\">\n",
       "      <th></th>\n",
       "      <th>subreddit</th>\n",
       "      <th>selftext</th>\n",
       "      <th>title</th>\n",
       "    </tr>\n",
       "  </thead>\n",
       "  <tbody>\n",
       "    <tr>\n",
       "      <th>0</th>\n",
       "      <td>golang</td>\n",
       "      <td>I'm trying to download a set of images to my s...</td>\n",
       "      <td>Speeding up image download to file using gorou...</td>\n",
       "    </tr>\n",
       "    <tr>\n",
       "      <th>1</th>\n",
       "      <td>golang</td>\n",
       "      <td>My team has written a wrapper package for the ...</td>\n",
       "      <td>Mocking mongo-go-driver Find()</td>\n",
       "    </tr>\n",
       "    <tr>\n",
       "      <th>2</th>\n",
       "      <td>golang</td>\n",
       "      <td></td>\n",
       "      <td>Sorting in Go - Don't Reinvent This Wheel</td>\n",
       "    </tr>\n",
       "    <tr>\n",
       "      <th>3</th>\n",
       "      <td>golang</td>\n",
       "      <td>Hello everyone! I'm trying to learn go, and to...</td>\n",
       "      <td>How to print nicely a nested struct</td>\n",
       "    </tr>\n",
       "    <tr>\n",
       "      <th>4</th>\n",
       "      <td>golang</td>\n",
       "      <td></td>\n",
       "      <td>SDNS v1.0.0 🎉released. Performance improvement...</td>\n",
       "    </tr>\n",
       "  </tbody>\n",
       "</table>\n",
       "</div>"
      ],
      "text/plain": [
       "  subreddit                                           selftext  \\\n",
       "0    golang  I'm trying to download a set of images to my s...   \n",
       "1    golang  My team has written a wrapper package for the ...   \n",
       "2    golang                                                      \n",
       "3    golang  Hello everyone! I'm trying to learn go, and to...   \n",
       "4    golang                                                      \n",
       "\n",
       "                                               title  \n",
       "0  Speeding up image download to file using gorou...  \n",
       "1                     Mocking mongo-go-driver Find()  \n",
       "2          Sorting in Go - Don't Reinvent This Wheel  \n",
       "3                How to print nicely a nested struct  \n",
       "4  SDNS v1.0.0 🎉released. Performance improvement...  "
      ]
     },
     "execution_count": 8,
     "metadata": {},
     "output_type": "execute_result"
    }
   ],
   "source": [
    "df_go.head()"
   ]
  },
  {
   "cell_type": "code",
   "execution_count": 9,
   "metadata": {},
   "outputs": [
    {
     "data": {
      "text/plain": [
       "False    984\n",
       "True      16\n",
       "dtype: int64"
      ]
     },
     "execution_count": 9,
     "metadata": {},
     "output_type": "execute_result"
    }
   ],
   "source": [
    "df_go.duplicated(subset='title').value_counts()"
   ]
  },
  {
   "cell_type": "markdown",
   "metadata": {},
   "source": [
    "# Append dem and rep dataframes and save to .csv\n"
   ]
  },
  {
   "cell_type": "code",
   "execution_count": 14,
   "metadata": {},
   "outputs": [
    {
     "data": {
      "text/html": [
       "<div>\n",
       "<style scoped>\n",
       "    .dataframe tbody tr th:only-of-type {\n",
       "        vertical-align: middle;\n",
       "    }\n",
       "\n",
       "    .dataframe tbody tr th {\n",
       "        vertical-align: top;\n",
       "    }\n",
       "\n",
       "    .dataframe thead th {\n",
       "        text-align: right;\n",
       "    }\n",
       "</style>\n",
       "<table border=\"1\" class=\"dataframe\">\n",
       "  <thead>\n",
       "    <tr style=\"text-align: right;\">\n",
       "      <th></th>\n",
       "      <th>python</th>\n",
       "      <th>selftext</th>\n",
       "      <th>title</th>\n",
       "    </tr>\n",
       "  </thead>\n",
       "  <tbody>\n",
       "    <tr>\n",
       "      <th>0</th>\n",
       "      <td>1</td>\n",
       "      <td>i want to open multiple ssh session, one to my...</td>\n",
       "      <td>paramiko multiple ssh session</td>\n",
       "    </tr>\n",
       "    <tr>\n",
       "      <th>1</th>\n",
       "      <td>1</td>\n",
       "      <td></td>\n",
       "      <td>[100% off] decision trees, random forests, ada...</td>\n",
       "    </tr>\n",
       "    <tr>\n",
       "      <th>2</th>\n",
       "      <td>1</td>\n",
       "      <td>i have to write a script for 10 children in cl...</td>\n",
       "      <td>need some help from the smart people .</td>\n",
       "    </tr>\n",
       "    <tr>\n",
       "      <th>3</th>\n",
       "      <td>1</td>\n",
       "      <td></td>\n",
       "      <td>i made tinder bot written in python selenium</td>\n",
       "    </tr>\n",
       "    <tr>\n",
       "      <th>4</th>\n",
       "      <td>1</td>\n",
       "      <td>streamlit: [https://www.streamlit.io/](https:/...</td>\n",
       "      <td>is it possible to host a streamlit app on vercel?</td>\n",
       "    </tr>\n",
       "  </tbody>\n",
       "</table>\n",
       "</div>"
      ],
      "text/plain": [
       "   python                                           selftext  \\\n",
       "0       1  i want to open multiple ssh session, one to my...   \n",
       "1       1                                                      \n",
       "2       1  i have to write a script for 10 children in cl...   \n",
       "3       1                                                      \n",
       "4       1  streamlit: [https://www.streamlit.io/](https:/...   \n",
       "\n",
       "                                               title  \n",
       "0                      paramiko multiple ssh session  \n",
       "1  [100% off] decision trees, random forests, ada...  \n",
       "2             need some help from the smart people .  \n",
       "3       i made tinder bot written in python selenium  \n",
       "4  is it possible to host a streamlit app on vercel?  "
      ]
     },
     "execution_count": 14,
     "metadata": {},
     "output_type": "execute_result"
    }
   ],
   "source": [
    "df = df_python.append(df_go)\n",
    "\n",
    "df.title = df.title.str.lower()\n",
    "df.selftext = df.selftext.str.lower()\n",
    "df.rename(columns={'subreddit':'python'}, inplace=True)\n",
    "df.python = df.python.map({'Python':1, 'golang':0})\n",
    "\n",
    "df.head()"
   ]
  },
  {
   "cell_type": "code",
   "execution_count": 15,
   "metadata": {},
   "outputs": [
    {
     "data": {
      "text/plain": [
       "False    2000\n",
       "Name: selftext, dtype: int64"
      ]
     },
     "execution_count": 15,
     "metadata": {},
     "output_type": "execute_result"
    }
   ],
   "source": [
    "df.selftext = np.where(df.selftext.isnull() == True, '', df.selftext)\n",
    "\n",
    "df.selftext.isnull().value_counts()"
   ]
  },
  {
   "cell_type": "code",
   "execution_count": 18,
   "metadata": {},
   "outputs": [],
   "source": [
    "# df.to_csv('./data/python.csv', index=False)"
   ]
  },
  {
   "cell_type": "code",
   "execution_count": null,
   "metadata": {},
   "outputs": [],
   "source": []
  }
 ],
 "metadata": {
  "kernelspec": {
   "display_name": "Python [conda env:dsi] *",
   "language": "python",
   "name": "conda-env-dsi-py"
  },
  "language_info": {
   "codemirror_mode": {
    "name": "ipython",
    "version": 3
   },
   "file_extension": ".py",
   "mimetype": "text/x-python",
   "name": "python",
   "nbconvert_exporter": "python",
   "pygments_lexer": "ipython3",
   "version": "3.7.6"
  }
 },
 "nbformat": 4,
 "nbformat_minor": 4
}
